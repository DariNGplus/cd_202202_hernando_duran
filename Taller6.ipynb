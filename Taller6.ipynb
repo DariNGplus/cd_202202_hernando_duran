{
  "nbformat": 4,
  "nbformat_minor": 0,
  "metadata": {
    "colab": {
      "provenance": [],
      "authorship_tag": "ABX9TyMHqODt5s8HQYaYuEqFagni",
      "include_colab_link": true
    },
    "kernelspec": {
      "name": "python3",
      "display_name": "Python 3"
    },
    "language_info": {
      "name": "python"
    }
  },
  "cells": [
    {
      "cell_type": "markdown",
      "metadata": {
        "id": "view-in-github",
        "colab_type": "text"
      },
      "source": [
        "<a href=\"https://colab.research.google.com/github/DariNGplus/cd_202202_hernando_duran/blob/main/Taller6.ipynb\" target=\"_parent\"><img src=\"https://colab.research.google.com/assets/colab-badge.svg\" alt=\"Open In Colab\"/></a>"
      ]
    },
    {
      "cell_type": "code",
      "execution_count": null,
      "metadata": {
        "id": "70wFLO_NjntW"
      },
      "outputs": [],
      "source": [
        "import math\n",
        "import random\n",
        "import numpy\n",
        "def distancia(x, y):\n",
        "  return math.sqrt(x**2 + y**2)"
      ]
    },
    {
      "cell_type": "code",
      "source": [
        "cont = 0\n",
        "puntosLado = 100\n",
        "\n",
        "step = 1/(puntosLado - 1)\n",
        "i = 0\n",
        "while i <= 1:\n",
        "  j = 0\n",
        "  while j <= 1:\n",
        "    if distancia(i, j) <= 1:\n",
        "      cont += 1\n",
        "    j += step\n",
        "  i += step\n",
        "\n",
        "print(\"Puntos:\", cont)\n",
        "\n",
        "print(\"Estimación de Pi:\", (4*cont/(puntosLado**2)))"
      ],
      "metadata": {
        "colab": {
          "base_uri": "https://localhost:8080/"
        },
        "id": "zXmtY2uGj2Mh",
        "outputId": "85bd02a7-5793-47bf-e713-86a6a799cb47"
      },
      "execution_count": null,
      "outputs": [
        {
          "output_type": "stream",
          "name": "stdout",
          "text": [
            "Puntos: 7789\n",
            "Estimación de Pi: 3.1156\n"
          ]
        }
      ]
    },
    {
      "cell_type": "code",
      "source": [
        "def randMatrix(size):\n",
        "  matrix = numpy.zeros((size, 2))\n",
        "  for x in range(size):\n",
        "    for y in range(2):\n",
        "      matrix[x, y] = random.random()\n",
        "    \n",
        "  \n",
        "  return matrix"
      ],
      "metadata": {
        "id": "aYR0Rr2nl7zC"
      },
      "execution_count": 107,
      "outputs": []
    },
    {
      "cell_type": "code",
      "source": [
        "cont = 0\n",
        "size = 10000\n",
        "matrix = randMatrix(size**2)\n",
        "\n",
        "step = 1/(size - 1)\n",
        "\n",
        "for i in range(0, len(matrix)):\n",
        "  if distancia(matrix[i][0], matrix[i][1]) <= 1:\n",
        "    cont+=1\n",
        "\n",
        "print(\"Puntos:\", cont)\n",
        "\n",
        "print(\"Estimación de Pi:\", (4*cont/(size**2)))\n",
        "\n"
      ],
      "metadata": {
        "colab": {
          "base_uri": "https://localhost:8080/"
        },
        "id": "l2at-VeHoXjQ",
        "outputId": "360650ce-8ded-4af9-8828-6624b93f84bf"
      },
      "execution_count": 111,
      "outputs": [
        {
          "output_type": "stream",
          "name": "stdout",
          "text": [
            "Puntos: 78543985\n",
            "Estimación de Pi: 3.1417594\n"
          ]
        }
      ]
    },
    {
      "cell_type": "code",
      "source": [],
      "metadata": {
        "id": "z28sGh-HpghX"
      },
      "execution_count": null,
      "outputs": []
    }
  ]
}