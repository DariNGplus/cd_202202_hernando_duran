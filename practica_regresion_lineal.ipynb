{
  "nbformat": 4,
  "nbformat_minor": 0,
  "metadata": {
    "colab": {
      "name": "practica_regresion_lineal.ipynb",
      "provenance": [],
      "collapsed_sections": [],
      "authorship_tag": "ABX9TyOWBIf7IQquRZWGGLmINK33",
      "include_colab_link": true
    },
    "kernelspec": {
      "name": "python3",
      "display_name": "Python 3"
    },
    "language_info": {
      "name": "python"
    }
  },
  "cells": [
    {
      "cell_type": "markdown",
      "metadata": {
        "id": "view-in-github",
        "colab_type": "text"
      },
      "source": [
        "<a href=\"https://colab.research.google.com/github/DariNGplus/cd_202202_hernando_duran/blob/main/practica_regresion_lineal.ipynb\" target=\"_parent\"><img src=\"https://colab.research.google.com/assets/colab-badge.svg\" alt=\"Open In Colab\"/></a>"
      ]
    },
    {
      "cell_type": "code",
      "execution_count": null,
      "metadata": {
        "id": "6Pyltqb-PDp5"
      },
      "outputs": [],
      "source": [
        "x = [ 3, 7, 8, 2, 11, 6]\n",
        "y = [ 17, 14, 14, 19, 6, 16]"
      ]
    },
    {
      "cell_type": "code",
      "source": [
        "sumX = 0\n",
        "sumY = 0\n",
        "sumXY = 0\n",
        "sumX2 = 0\n",
        "\n",
        "for a in range (0, len(x)):\n",
        "  sumX += x[a]\n",
        "  sumX2 += x[a] **2\n",
        "  sumY += y[a]\n",
        "  sumXY += x[a]*y[a]\n",
        "\n",
        "print(sumX, sumY, sumXY, sumX2)"
      ],
      "metadata": {
        "colab": {
          "base_uri": "https://localhost:8080/"
        },
        "id": "mmZfCZuqPP3Z",
        "outputId": "5c76f920-2ce9-4660-ac88-51973033f62c"
      },
      "execution_count": null,
      "outputs": [
        {
          "output_type": "stream",
          "name": "stdout",
          "text": [
            "37 86 461 283\n"
          ]
        }
      ]
    },
    {
      "cell_type": "code",
      "source": [
        "\n",
        "m = (len(x)*sumXY - sumX*sumY)/(len(x)*sumX2 - (sumX**2))\n",
        "b = y[0] - m * x[0]\n",
        "\n",
        "print(\"m: \"+ str(m) + \", b: \" + str(b))"
      ],
      "metadata": {
        "colab": {
          "base_uri": "https://localhost:8080/"
        },
        "id": "6HIgawb8QqVu",
        "outputId": "8f82afcb-9f79-4f7b-d508-e3cd55873e67"
      },
      "execution_count": null,
      "outputs": [
        {
          "output_type": "stream",
          "name": "stdout",
          "text": [
            "m: -1.2644376899696048, b: 20.793313069908812\n"
          ]
        }
      ]
    }
  ]
}